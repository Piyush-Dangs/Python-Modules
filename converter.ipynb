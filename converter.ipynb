{
  "nbformat": 4,
  "nbformat_minor": 0,
  "metadata": {
    "colab": {
      "name": "converter.ipynb",
      "version": "0.3.2",
      "provenance": [],
      "include_colab_link": true
    },
    "kernelspec": {
      "name": "python3",
      "display_name": "Python 3"
    }
  },
  "cells": [
    {
      "cell_type": "markdown",
      "metadata": {
        "id": "view-in-github",
        "colab_type": "text"
      },
      "source": [
        "<a href=\"https://colab.research.google.com/github/sheldoncooper07/Python-Modules/blob/master/converter.ipynb\" target=\"_parent\"><img src=\"https://colab.research.google.com/assets/colab-badge.svg\" alt=\"Open In Colab\"/></a>"
      ]
    },
    {
      "cell_type": "code",
      "metadata": {
        "id": "IXhmVVo0hU8X",
        "colab_type": "code",
        "colab": {}
      },
      "source": [
        "import pandas as pd\n",
        "import datetime"
      ],
      "execution_count": 0,
      "outputs": []
    },
    {
      "cell_type": "code",
      "metadata": {
        "id": "Td1l_14Ahm1e",
        "colab_type": "code",
        "colab": {}
      },
      "source": [
        "now=datetime.datetime.now()"
      ],
      "execution_count": 0,
      "outputs": []
    },
    {
      "cell_type": "code",
      "metadata": {
        "id": "---Eic4Yhzfg",
        "colab_type": "code",
        "colab": {}
      },
      "source": [
        "def realtimedata(data):\n",
        "    if type(data)==str:\n",
        "        return now.strftime(\"%Y-%m-%d %H:%M:%S\")\n",
        "    return data"
      ],
      "execution_count": 0,
      "outputs": []
    },
    {
      "cell_type": "code",
      "metadata": {
        "id": "IpY3YLDBlwsr",
        "colab_type": "code",
        "colab": {}
      },
      "source": [
        "df=pd.read_csv(\"weather_data.csv\",converters={\"date\":realtimedata})"
      ],
      "execution_count": 0,
      "outputs": []
    },
    {
      "cell_type": "code",
      "metadata": {
        "id": "lO-83nUGm9l-",
        "colab_type": "code",
        "colab": {
          "base_uri": "https://localhost:8080/",
          "height": 237
        },
        "outputId": "55339e5b-ca2c-4117-d474-7102703321ad"
      },
      "source": [
        "df"
      ],
      "execution_count": 6,
      "outputs": [
        {
          "output_type": "execute_result",
          "data": {
            "text/html": [
              "<div>\n",
              "<style scoped>\n",
              "    .dataframe tbody tr th:only-of-type {\n",
              "        vertical-align: middle;\n",
              "    }\n",
              "\n",
              "    .dataframe tbody tr th {\n",
              "        vertical-align: top;\n",
              "    }\n",
              "\n",
              "    .dataframe thead th {\n",
              "        text-align: right;\n",
              "    }\n",
              "</style>\n",
              "<table border=\"1\" class=\"dataframe\">\n",
              "  <thead>\n",
              "    <tr style=\"text-align: right;\">\n",
              "      <th></th>\n",
              "      <th>day</th>\n",
              "      <th>temperature</th>\n",
              "      <th>windspeed</th>\n",
              "      <th>event</th>\n",
              "    </tr>\n",
              "  </thead>\n",
              "  <tbody>\n",
              "    <tr>\n",
              "      <th>0</th>\n",
              "      <td>1/1/2017</td>\n",
              "      <td>32</td>\n",
              "      <td>6</td>\n",
              "      <td>Rain</td>\n",
              "    </tr>\n",
              "    <tr>\n",
              "      <th>1</th>\n",
              "      <td>1/2/2017</td>\n",
              "      <td>35</td>\n",
              "      <td>7</td>\n",
              "      <td>Sunny</td>\n",
              "    </tr>\n",
              "    <tr>\n",
              "      <th>2</th>\n",
              "      <td>1/3/2017</td>\n",
              "      <td>28</td>\n",
              "      <td>2</td>\n",
              "      <td>Snow</td>\n",
              "    </tr>\n",
              "    <tr>\n",
              "      <th>3</th>\n",
              "      <td>1/4/2017</td>\n",
              "      <td>24</td>\n",
              "      <td>7</td>\n",
              "      <td>Snow</td>\n",
              "    </tr>\n",
              "    <tr>\n",
              "      <th>4</th>\n",
              "      <td>1/5/2017</td>\n",
              "      <td>32</td>\n",
              "      <td>4</td>\n",
              "      <td>Rain</td>\n",
              "    </tr>\n",
              "    <tr>\n",
              "      <th>5</th>\n",
              "      <td>1/6/2017</td>\n",
              "      <td>31</td>\n",
              "      <td>2</td>\n",
              "      <td>Sunny</td>\n",
              "    </tr>\n",
              "  </tbody>\n",
              "</table>\n",
              "</div>"
            ],
            "text/plain": [
              "        day  temperature  windspeed  event\n",
              "0  1/1/2017           32          6   Rain\n",
              "1  1/2/2017           35          7  Sunny\n",
              "2  1/3/2017           28          2   Snow\n",
              "3  1/4/2017           24          7   Snow\n",
              "4  1/5/2017           32          4   Rain\n",
              "5  1/6/2017           31          2  Sunny"
            ]
          },
          "metadata": {
            "tags": []
          },
          "execution_count": 6
        }
      ]
    },
    {
      "cell_type": "code",
      "metadata": {
        "id": "0AGWAwwDnJjR",
        "colab_type": "code",
        "colab": {}
      },
      "source": [
        ""
      ],
      "execution_count": 0,
      "outputs": []
    },
    {
      "cell_type": "code",
      "metadata": {
        "id": "aKTapo9dnTme",
        "colab_type": "code",
        "colab": {}
      },
      "source": [
        ""
      ],
      "execution_count": 0,
      "outputs": []
    }
  ]
}